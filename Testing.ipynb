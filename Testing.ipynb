{
 "cells": [
  {
   "cell_type": "markdown",
   "id": "14125055",
   "metadata": {},
   "source": [
    "**Ch. 3 Exercise 2:** \n",
    "\n",
    "Rewrite your pay program using try and except so that your program handles non-numeric input gracefully by printing a message and exiting the program."
   ]
  },
  {
   "cell_type": "code",
   "execution_count": 3,
   "id": "6ae52680",
   "metadata": {},
   "outputs": [
    {
     "data": {
      "text/plain": [
       "3300.0"
      ]
     },
     "execution_count": 3,
     "metadata": {},
     "output_type": "execute_result"
    }
   ],
   "source": [
    "40*60+10*60*1.5"
   ]
  },
  {
   "cell_type": "markdown",
   "id": "a09b2d39",
   "metadata": {},
   "source": [
    "## Testing Strategy - Unit Test\n",
    "\n",
    "- Try letters, words : Strings => Exception\n",
    "- negative numbers => Exception\n",
    "- numbers below 40 \n",
    "    - 10, 10 => 100\n",
    "    - 20, 5 => 100\n",
    "    - 15, 7 => 105\n",
    "    - 0, 0 => 0\n",
    "    - 0, 27 => 0\n",
    "    - 27, 0 => 0\n",
    "    - 40, 5 => 200\n",
    "    - 5, 40 => 200\n",
    "    - 39, 4 => 156\n",
    "- numbers above 40\n",
    "    - 41, 10 => 415\n",
    "    - 50, 60 => 3300\n",
    "- null => exception\n",
    "- data types not int or float => exception"
   ]
  },
  {
   "cell_type": "markdown",
   "id": "ecbc57e0",
   "metadata": {},
   "source": [
    "## Manual Unit Test"
   ]
  },
  {
   "cell_type": "code",
   "execution_count": 8,
   "id": "8787fe59",
   "metadata": {},
   "outputs": [
    {
     "name": "stdout",
     "output_type": "stream",
     "text": [
      "What is your hours?\n",
      "True\n",
      "That input is not a number. Please try again.\n"
     ]
    }
   ],
   "source": [
    "try:\n",
    "    hours = float(input(\"What is your hours?\\n\"))\n",
    "    rate = float(input(\"What is your rate?\\n\"))\n",
    "    if hours <= 40:\n",
    "        pay = hours * rate\n",
    "    else:\n",
    "        pay = 40*rate + (hours - 40)*rate*1.5\n",
    "    print(f\"Your pay is: €{pay}\")\n",
    "    #hours = float(hours)\n",
    "except:\n",
    "    print(\"That input is not a number. Please try again.\")"
   ]
  },
  {
   "cell_type": "markdown",
   "id": "562aa78c",
   "metadata": {},
   "source": [
    "## Automated Unit Test"
   ]
  },
  {
   "cell_type": "code",
   "execution_count": 11,
   "id": "2e69d2d2",
   "metadata": {},
   "outputs": [],
   "source": [
    "def calculatePay(hours, rate): \n",
    "    try:\n",
    "        hours = float(hours)\n",
    "        rate = float(rate)\n",
    "        if hours <= 40:\n",
    "            pay = hours * rate\n",
    "        else:\n",
    "            pay = 40*rate + (hours - 40)*rate*1.5\n",
    "        return f\"Your pay is: €{pay}\"\n",
    "        #hours = float(hours)\n",
    "    except:\n",
    "        return \"That input is not a number. Please try again.\""
   ]
  },
  {
   "cell_type": "code",
   "execution_count": 12,
   "id": "d66d75d8",
   "metadata": {},
   "outputs": [
    {
     "data": {
      "text/plain": [
       "True"
      ]
     },
     "execution_count": 12,
     "metadata": {},
     "output_type": "execute_result"
    }
   ],
   "source": [
    "exception = \"That input is not a number. Please try again.\"\n",
    "calculatePay(\"Sam\", 4) == exception"
   ]
  },
  {
   "cell_type": "markdown",
   "id": "314cd460",
   "metadata": {},
   "source": [
    "**Ch. 4 Exercise 4:** \n",
    "\n",
    "What is the purpose of the “def” keyword in Python?\n",
    "\n",
    "a) It is slang that means “the following code is really cool”\n",
    "\n",
    "b) It indicates the start of a function\n",
    "\n",
    "c) It indicates that the following indented section of code is to be stored for later\n",
    "\n",
    "d) b and c are both true\n",
    "\n",
    "e) None of the above"
   ]
  },
  {
   "cell_type": "markdown",
   "id": "7ab341f2",
   "metadata": {},
   "source": [
    "**Answer:** d (b and c)"
   ]
  },
  {
   "cell_type": "code",
   "execution_count": 7,
   "id": "51008fec",
   "metadata": {},
   "outputs": [],
   "source": [
    "def printHello():\n",
    "    print(\"Hello!!\")"
   ]
  },
  {
   "cell_type": "code",
   "execution_count": 8,
   "id": "a4e63647",
   "metadata": {},
   "outputs": [
    {
     "name": "stdout",
     "output_type": "stream",
     "text": [
      "Hello!!\n"
     ]
    }
   ],
   "source": [
    "printHello()"
   ]
  },
  {
   "cell_type": "markdown",
   "id": "1637ffda",
   "metadata": {},
   "source": [
    "**Ch. 4 Exercise 5:** \n",
    "\n",
    "What will the following Python program print out?\n",
    "\n",
    "def fred():<br>\n",
    "    print(\"Zap\")<br>\n",
    "def jane():<br>\n",
    "    print(\"ABC\")<br>\n",
    "jane()<br>\n",
    "fred()<br>\n",
    "jane()<br>\n",
    "\n",
    "a) Zap ABC jane fred jane\n",
    "\n",
    "b) Zap ABC Zap\n",
    "\n",
    "c) ABC Zap jane\n",
    "\n",
    "d) ABC Zap ABC\n",
    "\n",
    "e) Zap Zap Zap"
   ]
  },
  {
   "cell_type": "markdown",
   "id": "b7c92a70",
   "metadata": {},
   "source": [
    "**Answer:** d"
   ]
  },
  {
   "cell_type": "code",
   "execution_count": 9,
   "id": "08d81617",
   "metadata": {},
   "outputs": [
    {
     "name": "stdout",
     "output_type": "stream",
     "text": [
      "ABC\n",
      "Zap\n",
      "ABC\n"
     ]
    }
   ],
   "source": [
    "def fred():\n",
    "    print(\"Zap\")\n",
    "def jane():\n",
    "    print(\"ABC\")\n",
    "jane()\n",
    "fred()\n",
    "jane()"
   ]
  },
  {
   "cell_type": "markdown",
   "id": "7602a52d",
   "metadata": {},
   "source": [
    "Exercise 6: Rewrite your pay computation with time-and-a-half for over-time and create a function called computepay which takes two parameters\n",
    "(hours and rate).\n",
    "\n",
    "Enter Hours: 45\n",
    "\n",
    "Enter Rate: 10\n",
    "\n",
    "Pay: 475.0"
   ]
  },
  {
   "cell_type": "code",
   "execution_count": 10,
   "id": "6163328f",
   "metadata": {},
   "outputs": [
    {
     "name": "stdout",
     "output_type": "stream",
     "text": [
      "What is your hours?\n",
      "45\n",
      "What is your rate?\n",
      "10\n"
     ]
    }
   ],
   "source": [
    "try:\n",
    "    hours = float(input(\"What is your hours?\\n\"))\n",
    "    rate = float(input(\"What is your rate?\\n\"))\n",
    "    #hours = float(hours)\n",
    "except:\n",
    "    print(\"That input is not a number. Please try again.\")\n",
    "\n",
    "def computePay(hours, rate):\n",
    "    if hours <= 40:\n",
    "        pay = hours * rate\n",
    "    else:\n",
    "        pay = 40*rate + (hours - 40)*rate*1.5\n",
    "    print(f\"Your pay is: €{pay}\")"
   ]
  },
  {
   "cell_type": "code",
   "execution_count": 14,
   "id": "5824b790",
   "metadata": {},
   "outputs": [
    {
     "name": "stdout",
     "output_type": "stream",
     "text": [
      "475.0\n",
      "The pay is: 475.0\n"
     ]
    }
   ],
   "source": [
    "def computeAndReturnPay(hours, rate):\n",
    "    if hours <= 40:\n",
    "        pay = hours * rate\n",
    "    else:\n",
    "        pay = 40*rate + (hours - 40)*rate*1.5\n",
    "    return pay\n",
    "\n",
    "\n",
    "\n",
    "print(computeAndReturnPay(hours, rate))\n",
    "pay = computeAndReturnPay(hours, rate)\n",
    "print(f\"The pay is: {pay}\")"
   ]
  },
  {
   "cell_type": "code",
   "execution_count": 12,
   "id": "e3ab44d9",
   "metadata": {},
   "outputs": [
    {
     "name": "stdout",
     "output_type": "stream",
     "text": [
      "Your pay is: €475.0\n",
      "Your pay is: €475.0\n",
      "Your pay is: €475.0\n"
     ]
    }
   ],
   "source": [
    "computePay(hours, rate)\n",
    "computePay(hours, rate)\n",
    "computePay(hours, rate)"
   ]
  },
  {
   "cell_type": "code",
   "execution_count": 16,
   "id": "0b1da185",
   "metadata": {},
   "outputs": [
    {
     "name": "stdout",
     "output_type": "stream",
     "text": [
      "Your pay is: €950.0\n"
     ]
    }
   ],
   "source": [
    "computePay(45, 20)"
   ]
  },
  {
   "cell_type": "markdown",
   "id": "576b4039",
   "metadata": {},
   "source": [
    "Exercise 7: Rewrite the grade program from the previous chapter using\n",
    "a function called computegrade that takes a score as its parameter and\n",
    "returns a grade as a string."
   ]
  },
  {
   "cell_type": "code",
   "execution_count": 26,
   "id": "25ae4645",
   "metadata": {},
   "outputs": [],
   "source": [
    "def computeGrade(score):\n",
    "    try:\n",
    "        score = float(score)\n",
    "    except:\n",
    "        print(\"Please enter a number\")\n",
    "        return\n",
    "    if score < 0 or score > 1:\n",
    "        print(\"That is an invalid socre - it must be between 0 and 1 inclusive.\")\n",
    "        return\n",
    "    if score >= 0.9: # elif\n",
    "        return \"A\"\n",
    "    if score >= 0.8: #elif\n",
    "        0/0 # Experiment\n",
    "        return \"B\"\n",
    "    if score >= 0.7: #elif\n",
    "        return \"C\"\n",
    "    if score >= 0.6: #elif\n",
    "        return \"D\"\n",
    "    return \"F\" #else"
   ]
  },
  {
   "cell_type": "code",
   "execution_count": 27,
   "id": "f0615d21",
   "metadata": {},
   "outputs": [
    {
     "name": "stdout",
     "output_type": "stream",
     "text": [
      "That is an invalid socre - it must be between 0 and 1 inclusive.\n"
     ]
    }
   ],
   "source": [
    "computeGrade(5)"
   ]
  },
  {
   "cell_type": "code",
   "execution_count": 28,
   "id": "863f6648",
   "metadata": {},
   "outputs": [
    {
     "name": "stdout",
     "output_type": "stream",
     "text": [
      "That is an invalid socre - it must be between 0 and 1 inclusive.\n"
     ]
    }
   ],
   "source": [
    "computeGrade(-1)"
   ]
  },
  {
   "cell_type": "code",
   "execution_count": 29,
   "id": "a599e6ff",
   "metadata": {},
   "outputs": [
    {
     "name": "stdout",
     "output_type": "stream",
     "text": [
      "Please enter a number\n"
     ]
    }
   ],
   "source": [
    "computeGrade(\"five\")"
   ]
  },
  {
   "cell_type": "code",
   "execution_count": 30,
   "id": "314336a8",
   "metadata": {},
   "outputs": [
    {
     "ename": "ZeroDivisionError",
     "evalue": "division by zero",
     "output_type": "error",
     "traceback": [
      "\u001b[1;31m---------------------------------------------------------------------------\u001b[0m",
      "\u001b[1;31mZeroDivisionError\u001b[0m                         Traceback (most recent call last)",
      "Input \u001b[1;32mIn [30]\u001b[0m, in \u001b[0;36m<cell line: 1>\u001b[1;34m()\u001b[0m\n\u001b[1;32m----> 1\u001b[0m \u001b[43mcomputeGrade\u001b[49m\u001b[43m(\u001b[49m\u001b[38;5;241;43m0.8\u001b[39;49m\n\u001b[0;32m      2\u001b[0m \u001b[43m            \u001b[49m\u001b[43m)\u001b[49m\n",
      "Input \u001b[1;32mIn [26]\u001b[0m, in \u001b[0;36mcomputeGrade\u001b[1;34m(score)\u001b[0m\n\u001b[0;32m     11\u001b[0m     \u001b[38;5;28;01mreturn\u001b[39;00m \u001b[38;5;124m\"\u001b[39m\u001b[38;5;124mA\u001b[39m\u001b[38;5;124m\"\u001b[39m\n\u001b[0;32m     12\u001b[0m \u001b[38;5;28;01mif\u001b[39;00m score \u001b[38;5;241m>\u001b[39m\u001b[38;5;241m=\u001b[39m \u001b[38;5;241m0.8\u001b[39m: \u001b[38;5;66;03m#elif\u001b[39;00m\n\u001b[1;32m---> 13\u001b[0m     \u001b[38;5;241;43m0\u001b[39;49m\u001b[38;5;241;43m/\u001b[39;49m\u001b[38;5;241;43m0\u001b[39;49m\n\u001b[0;32m     14\u001b[0m     \u001b[38;5;28;01mreturn\u001b[39;00m \u001b[38;5;124m\"\u001b[39m\u001b[38;5;124mB\u001b[39m\u001b[38;5;124m\"\u001b[39m\n\u001b[0;32m     15\u001b[0m \u001b[38;5;28;01mif\u001b[39;00m score \u001b[38;5;241m>\u001b[39m\u001b[38;5;241m=\u001b[39m \u001b[38;5;241m0.7\u001b[39m: \u001b[38;5;66;03m#elif\u001b[39;00m\n",
      "\u001b[1;31mZeroDivisionError\u001b[0m: division by zero"
     ]
    }
   ],
   "source": [
    "computeGrade(0.8\n",
    "            )"
   ]
  },
  {
   "cell_type": "code",
   "execution_count": 31,
   "id": "c3299b1e",
   "metadata": {},
   "outputs": [
    {
     "data": {
      "text/plain": [
       "'F'"
      ]
     },
     "execution_count": 31,
     "metadata": {},
     "output_type": "execute_result"
    }
   ],
   "source": [
    "computeGrade(0.5999)"
   ]
  },
  {
   "cell_type": "code",
   "execution_count": 23,
   "id": "8c1ef9be",
   "metadata": {},
   "outputs": [
    {
     "data": {
      "text/plain": [
       "'F'"
      ]
     },
     "execution_count": 23,
     "metadata": {},
     "output_type": "execute_result"
    }
   ],
   "source": [
    "computeGrade(0)"
   ]
  },
  {
   "cell_type": "code",
   "execution_count": 24,
   "id": "d159664b",
   "metadata": {},
   "outputs": [
    {
     "name": "stdout",
     "output_type": "stream",
     "text": [
      "That is an invalid socre - it must be between 0 and 1 inclusive.\n"
     ]
    },
    {
     "data": {
      "text/plain": [
       "NoneType"
      ]
     },
     "execution_count": 24,
     "metadata": {},
     "output_type": "execute_result"
    }
   ],
   "source": [
    "type(computeGrade(5))"
   ]
  },
  {
   "cell_type": "code",
   "execution_count": 25,
   "id": "d9a766f5",
   "metadata": {},
   "outputs": [
    {
     "data": {
      "text/plain": [
       "str"
      ]
     },
     "execution_count": 25,
     "metadata": {},
     "output_type": "execute_result"
    }
   ],
   "source": [
    "type(computeGrade(0.5))"
   ]
  },
  {
   "cell_type": "code",
   "execution_count": 32,
   "id": "f5d16c0f",
   "metadata": {},
   "outputs": [
    {
     "ename": "NameError",
     "evalue": "name 'h' is not defined",
     "output_type": "error",
     "traceback": [
      "\u001b[1;31m---------------------------------------------------------------------------\u001b[0m",
      "\u001b[1;31mNameError\u001b[0m                                 Traceback (most recent call last)",
      "Input \u001b[1;32mIn [32]\u001b[0m, in \u001b[0;36m<cell line: 1>\u001b[1;34m()\u001b[0m\n\u001b[1;32m----> 1\u001b[0m \u001b[43mh\u001b[49m\n",
      "\u001b[1;31mNameError\u001b[0m: name 'h' is not defined"
     ]
    }
   ],
   "source": [
    "h"
   ]
  },
  {
   "cell_type": "code",
   "execution_count": 33,
   "id": "8e132c07",
   "metadata": {},
   "outputs": [
    {
     "ename": "NameError",
     "evalue": "name 'h' is not defined",
     "output_type": "error",
     "traceback": [
      "\u001b[1;31m---------------------------------------------------------------------------\u001b[0m",
      "\u001b[1;31mNameError\u001b[0m                                 Traceback (most recent call last)",
      "Input \u001b[1;32mIn [33]\u001b[0m, in \u001b[0;36m<cell line: 1>\u001b[1;34m()\u001b[0m\n\u001b[1;32m----> 1\u001b[0m computeGrade(\u001b[43mh\u001b[49m)\n",
      "\u001b[1;31mNameError\u001b[0m: name 'h' is not defined"
     ]
    }
   ],
   "source": [
    "computeGrade(h)"
   ]
  },
  {
   "cell_type": "code",
   "execution_count": 34,
   "id": "d07d5ada",
   "metadata": {},
   "outputs": [
    {
     "ename": "ZeroDivisionError",
     "evalue": "division by zero",
     "output_type": "error",
     "traceback": [
      "\u001b[1;31m---------------------------------------------------------------------------\u001b[0m",
      "\u001b[1;31mZeroDivisionError\u001b[0m                         Traceback (most recent call last)",
      "Input \u001b[1;32mIn [34]\u001b[0m, in \u001b[0;36m<cell line: 1>\u001b[1;34m()\u001b[0m\n\u001b[1;32m----> 1\u001b[0m computeGrade(\u001b[38;5;241;43m0\u001b[39;49m\u001b[38;5;241;43m/\u001b[39;49m\u001b[38;5;241;43m0\u001b[39;49m)\n",
      "\u001b[1;31mZeroDivisionError\u001b[0m: division by zero"
     ]
    }
   ],
   "source": [
    "computeGrade(0/0)"
   ]
  },
  {
   "cell_type": "code",
   "execution_count": null,
   "id": "c7295801",
   "metadata": {},
   "outputs": [],
   "source": []
  }
 ],
 "metadata": {
  "kernelspec": {
   "display_name": "Python 3 (ipykernel)",
   "language": "python",
   "name": "python3"
  },
  "language_info": {
   "codemirror_mode": {
    "name": "ipython",
    "version": 3
   },
   "file_extension": ".py",
   "mimetype": "text/x-python",
   "name": "python",
   "nbconvert_exporter": "python",
   "pygments_lexer": "ipython3",
   "version": "3.9.12"
  }
 },
 "nbformat": 4,
 "nbformat_minor": 5
}
